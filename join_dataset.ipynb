{
 "cells": [
  {
   "cell_type": "code",
   "execution_count": 1,
   "metadata": {},
   "outputs": [
    {
     "name": "stdout",
     "output_type": "stream",
     "text": [
      "Requirement already satisfied: tqdm in c:\\users\\eduar\\appdata\\local\\programs\\python\\python312\\lib\\site-packages (4.66.4)\n",
      "Requirement already satisfied: colorama in c:\\users\\eduar\\appdata\\roaming\\python\\python312\\site-packages (from tqdm) (0.4.6)\n",
      "Note: you may need to restart the kernel to use updated packages.\n",
      "Requirement already satisfied: scipy in c:\\users\\eduar\\appdata\\local\\programs\\python\\python312\\lib\\site-packages (1.13.1)\n",
      "Requirement already satisfied: numpy<2.3,>=1.22.4 in c:\\users\\eduar\\appdata\\local\\programs\\python\\python312\\lib\\site-packages (from scipy) (1.26.4)\n",
      "Note: you may need to restart the kernel to use updated packages.\n"
     ]
    }
   ],
   "source": [
    "%pip install tqdm\n",
    "%pip install scipy"
   ]
  },
  {
   "cell_type": "code",
   "execution_count": 2,
   "metadata": {},
   "outputs": [],
   "source": [
    "import pandas as pd\n",
    "import json\n",
    "import numpy as np\n",
    "from scipy import stats\n",
    "from datetime import datetime\n",
    "import math\n",
    "from time import sleep\n",
    "from tqdm import tqdm\n",
    "from scipy.spatial import cKDTree"
   ]
  },
  {
   "cell_type": "code",
   "execution_count": 3,
   "metadata": {},
   "outputs": [
    {
     "data": {
      "text/plain": [
       "latitude                 0\n",
       "longitude                0\n",
       "data_pas                 0\n",
       "satelite                 0\n",
       "pais                     0\n",
       "estado                   0\n",
       "municipio                0\n",
       "bioma                    0\n",
       "numero_dias_sem_chuva    0\n",
       "precipitacao             0\n",
       "risco_fogo               0\n",
       "id_area_industrial       0\n",
       "dtype: int64"
      ]
     },
     "execution_count": 3,
     "metadata": {},
     "output_type": "execute_result"
    }
   ],
   "source": [
    "#Pre-process combined focus\n",
    "\n",
    "focus = pd.read_csv(\"combined_focos.csv\")\n",
    "focus.drop(labels=['frp'], inplace=True, axis=1)\n",
    "focus.dropna(inplace=True)\n",
    "focus.reset_index(drop=True, inplace=True)\n",
    "focus.isna().sum()"
   ]
  },
  {
   "cell_type": "code",
   "execution_count": 9,
   "metadata": {},
   "outputs": [],
   "source": [
    "stations = pd.read_csv(\"../INMET_weather/stations.csv\")"
   ]
  },
  {
   "cell_type": "code",
   "execution_count": 10,
   "metadata": {},
   "outputs": [
    {
     "name": "stdout",
     "output_type": "stream",
     "text": [
      "                        date               city     biome  days_without_rain  \\\n",
      "0        2018-03-01 23:05:45          BOA VISTA  Amazônia                0.0   \n",
      "1        2018-06-09 16:54:00       PORTO ALEGRE     Pampa                2.0   \n",
      "2        2018-06-09 14:20:00      DTCEA VILHENA  Amazônia                7.0   \n",
      "3        2018-06-09 14:20:00      DTCEA VILHENA  Amazônia                7.0   \n",
      "4        2018-06-09 14:20:00  S.J. DO RIO CLARO   Cerrado               18.0   \n",
      "...                      ...                ...       ...                ...   \n",
      "49141511 2023-07-27 23:23:06            TUCURUI  Amazônia               25.0   \n",
      "49141512 2023-07-27 23:23:11           TOME ACU  Amazônia               14.0   \n",
      "49141513 2023-07-27 23:23:11           TOME ACU  Amazônia               13.0   \n",
      "49141514 2023-07-27 23:23:22           TOME ACU  Amazônia                9.0   \n",
      "49141515 2023-07-27 23:23:22           TOME ACU  Amazônia               10.0   \n",
      "\n",
      "          precipitation  fire_risk  \n",
      "0                   0.7       0.90  \n",
      "1                   0.0       0.80  \n",
      "2                   0.0       0.70  \n",
      "3                   0.0       0.60  \n",
      "4                   0.0       1.00  \n",
      "...                 ...        ...  \n",
      "49141511            0.0       0.93  \n",
      "49141512            0.0       0.92  \n",
      "49141513            0.0       1.00  \n",
      "49141514            0.0       0.11  \n",
      "49141515            0.0       0.11  \n",
      "\n",
      "[49141516 rows x 6 columns]\n"
     ]
    }
   ],
   "source": [
    "# Preprocessar coordenadas das estações\n",
    "stations['lat'] = stations['lat'].str.replace(',', '.').astype(float)\n",
    "stations['lon'] = stations['lon'].str.replace(',', '.').astype(float)\n",
    "\n",
    "# Construir KDTree para estações\n",
    "station_coords = stations[['lat', 'lon']].values\n",
    "tree = cKDTree(station_coords)\n",
    "\n",
    "# Coordenadas dos focos\n",
    "focus_coords = focus[['latitude', 'longitude']].values\n",
    "\n",
    "# Encontrar índices das estações mais próximas\n",
    "distances, indices = tree.query(focus_coords)\n",
    "\n",
    "# Criar DataFrame final\n",
    "filtered_focus = pd.DataFrame({\n",
    "    'date': pd.to_datetime(focus['data_pas']),\n",
    "    'city': stations['city_station'].values[indices],\n",
    "    'biome': focus['bioma'],\n",
    "    'days_without_rain': focus['numero_dias_sem_chuva'],\n",
    "    'precipitation': focus['precipitacao'],\n",
    "    'fire_risk': focus['risco_fogo']\n",
    "})\n",
    "\n",
    "print(filtered_focus)"
   ]
  },
  {
   "cell_type": "code",
   "execution_count": null,
   "metadata": {},
   "outputs": [],
   "source": [
    "focus_train = filtered_focus[filtered_focus[\"data_pas\"].apply(lambda x: int(x[:4]))<=2020]\n",
    "focus_val = filtered_focus[filtered_focus[\"data_pas\"].apply(lambda x: int(x[:4]))>2020]\n",
    "focus_val = focus_val[focus_val[\"data_pas\"].apply(lambda x: int(x[:4]))<=2022]\n",
    "focus_test = filtered_focus[filtered_focus[\"data_pas\"].apply(lambda x: int(x[:4]))>2022]"
   ]
  },
  {
   "cell_type": "code",
   "execution_count": null,
   "metadata": {},
   "outputs": [],
   "source": [
    "inmet_test = pd.read_csv(\"inmet_test.csv\")\n",
    "inmet_train = pd.read_csv(\"inmet_train.csv\")\n",
    "inmet_val = pd.read_csv(\"inmet_val.csv\")"
   ]
  }
 ],
 "metadata": {
  "kernelspec": {
   "display_name": "Python 3",
   "language": "python",
   "name": "python3"
  },
  "language_info": {
   "codemirror_mode": {
    "name": "ipython",
    "version": 3
   },
   "file_extension": ".py",
   "mimetype": "text/x-python",
   "name": "python",
   "nbconvert_exporter": "python",
   "pygments_lexer": "ipython3",
   "version": "3.12.3"
  }
 },
 "nbformat": 4,
 "nbformat_minor": 2
}
