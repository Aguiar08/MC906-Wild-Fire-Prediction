{
 "cells": [
  {
   "cell_type": "markdown",
   "metadata": {
    "id": "Xlwgsl062pPo"
   },
   "source": [
    "This notebook expects a previows data processing pipeline, that defines four variables: `X_train`, `X_test`, `y_train`, `y_test`\n",
    "\n"
   ]
  },
  {
   "cell_type": "code",
   "execution_count": 1,
   "metadata": {
    "executionInfo": {
     "elapsed": 8940,
     "status": "ok",
     "timestamp": 1717184097412,
     "user": {
      "displayName": "Gustavo De Souza Dos Reis",
      "userId": "02757989755329538967"
     },
     "user_tz": 180
    },
    "id": "z9J7GWGc1_tT"
   },
   "outputs": [],
   "source": [
    "import torch\n",
    "import torch.nn as nn\n",
    "from torch.nn import init\n",
    "import torch.optim as optim\n",
    "from torch.autograd import Variable\n",
    "from torch.utils.data import Dataset, DataLoader\n",
    "\n",
    "import pandas as pd\n",
    "import numpy as np\n",
    "import seaborn as sns\n",
    "import matplotlib.pyplot as plt\n",
    "%matplotlib inline\n",
    "\n",
    "from sklearn.preprocessing import MinMaxScaler\n",
    "#import tensorflow as tf\n",
    "\n",
    "from sklearn.preprocessing import StandardScaler, MinMaxScaler\n"
   ]
  },
  {
   "cell_type": "code",
   "execution_count": 2,
   "metadata": {
    "colab": {
     "base_uri": "https://localhost:8080/"
    },
    "executionInfo": {
     "elapsed": 25344,
     "status": "ok",
     "timestamp": 1717184122751,
     "user": {
      "displayName": "Gustavo De Souza Dos Reis",
      "userId": "02757989755329538967"
     },
     "user_tz": 180
    },
    "id": "4OVPX7IiAVe1",
    "outputId": "2909c20b-03a7-4fa2-d77b-9eaedcafc7ec"
   },
   "outputs": [
    {
     "name": "stdout",
     "output_type": "stream",
     "text": [
      "Mounted at /content/drive\n"
     ]
    }
   ],
   "source": [
    "from google.colab import drive\n",
    "drive.mount('/content/drive')\n",
    "data_path = '/content/drive/MyDrive/MC906/Filtered_data/'"
   ]
  },
  {
   "cell_type": "code",
   "execution_count": 3,
   "metadata": {
    "executionInfo": {
     "elapsed": 35,
     "status": "ok",
     "timestamp": 1717184122752,
     "user": {
      "displayName": "Gustavo De Souza Dos Reis",
      "userId": "02757989755329538967"
     },
     "user_tz": 180
    },
    "id": "fdTTKCwLAqoE"
   },
   "outputs": [],
   "source": [
    "class LazyCSVLoader(Dataset):\n",
    "    def __init__(self, feature_csv, target_csv):\n",
    "        self.feature_csv = feature_csv\n",
    "        self.target_csv = target_csv\n",
    "        self.num_features = pd.read_csv(feature_csv, nrows=1).shape[1] - 1  # Exclude the index column\n",
    "        self.length = self._get_len()\n",
    "\n",
    "    def _get_len(self):\n",
    "        with open(self.feature_csv) as f:\n",
    "            for i, l in enumerate(f):\n",
    "                pass\n",
    "        return i  # returns the number of rows\n",
    "\n",
    "    def __len__(self):\n",
    "        return self.length\n",
    "\n",
    "    def __getitem__(self, idx):\n",
    "        if torch.is_tensor(idx):\n",
    "            idx = idx.tolist()\n",
    "\n",
    "        # Read the specific row and skip the index column\n",
    "        features = pd.read_csv(self.feature_csv, skiprows=idx + 1, nrows=1).iloc[:, 1:].values.flatten()\n",
    "        target = pd.read_csv(self.target_csv, skiprows=idx + 1, nrows=1).iloc[:, 1:].values.flatten()[0]\n",
    "\n",
    "        data = torch.tensor(features, dtype=torch.float)\n",
    "        target = torch.tensor(target, dtype=torch.float)\n",
    "\n",
    "        return data, target"
   ]
  },
  {
   "cell_type": "code",
   "execution_count": 4,
   "metadata": {
    "executionInfo": {
     "elapsed": 23,
     "status": "ok",
     "timestamp": 1717184122753,
     "user": {
      "displayName": "Gustavo De Souza Dos Reis",
      "userId": "02757989755329538967"
     },
     "user_tz": 180
    },
    "id": "V_BKUhkE4WdY"
   },
   "outputs": [],
   "source": [
    "class PolynomialRegression(nn.Module):\n",
    "    def __init__(self, input_dim, output_dim):\n",
    "        super(PolynomialRegression, self).__init__()\n",
    "        self.poly = nn.Linear(input_dim, output_dim)\n",
    "\n",
    "    def forward(self, x):\n",
    "        out = self.poly(x)\n",
    "        return out"
   ]
  },
  {
   "cell_type": "code",
   "execution_count": 5,
   "metadata": {
    "executionInfo": {
     "elapsed": 21,
     "status": "ok",
     "timestamp": 1717184122754,
     "user": {
      "displayName": "Gustavo De Souza Dos Reis",
      "userId": "02757989755329538967"
     },
     "user_tz": 180
    },
    "id": "HwVTq95OB01s"
   },
   "outputs": [],
   "source": [
    "def train(model, dataloader, criterion, optimizer, device):\n",
    "    model.train()\n",
    "    running_loss = 0.0\n",
    "    for inputs, targets in dataloader:\n",
    "        inputs, targets = inputs.to(device), targets.to(device)\n",
    "        optimizer.zero_grad()\n",
    "        outputs = model(inputs)\n",
    "        loss = criterion(outputs, targets.unsqueeze(1))\n",
    "        loss.backward()\n",
    "        optimizer.step()\n",
    "        running_loss += loss.item()\n",
    "    return running_loss / len(dataloader)"
   ]
  },
  {
   "cell_type": "code",
   "execution_count": 6,
   "metadata": {
    "executionInfo": {
     "elapsed": 19,
     "status": "ok",
     "timestamp": 1717184122754,
     "user": {
      "displayName": "Gustavo De Souza Dos Reis",
      "userId": "02757989755329538967"
     },
     "user_tz": 180
    },
    "id": "Amq88n8M4XPG"
   },
   "outputs": [],
   "source": [
    "def validate(model, dataloader, criterion, device):\n",
    "    model.eval()\n",
    "    running_loss = 0.0\n",
    "    with torch.no_grad():\n",
    "        for inputs, targets in dataloader:\n",
    "            inputs, targets = inputs.to(device), targets.to(device)\n",
    "            outputs = model(inputs)\n",
    "            loss = criterion(outputs, targets.unsqueeze(1))\n",
    "            running_loss += loss.item()\n",
    "    return running_loss / len(dataloader)"
   ]
  },
  {
   "cell_type": "code",
   "execution_count": 7,
   "metadata": {
    "executionInfo": {
     "elapsed": 16,
     "status": "ok",
     "timestamp": 1717184122754,
     "user": {
      "displayName": "Gustavo De Souza Dos Reis",
      "userId": "02757989755329538967"
     },
     "user_tz": 180
    },
    "id": "_4gnKWtj5Vic"
   },
   "outputs": [],
   "source": [
    "def test(model, dataloader, device):\n",
    "    model.eval()\n",
    "    predictions, actuals = [], []\n",
    "    with torch.no_grad():\n",
    "        for inputs, targets in dataloader:\n",
    "            inputs, targets = inputs.to(device), targets.to(device)\n",
    "            outputs = model(inputs)\n",
    "            predictions.extend(outputs.cpu().numpy())\n",
    "            actuals.extend(targets.cpu().numpy())\n",
    "    return predictions, actuals"
   ]
  },
  {
   "cell_type": "code",
   "execution_count": 8,
   "metadata": {
    "colab": {
     "base_uri": "https://localhost:8080/"
    },
    "executionInfo": {
     "elapsed": 170946,
     "status": "ok",
     "timestamp": 1717184293686,
     "user": {
      "displayName": "Gustavo De Souza Dos Reis",
      "userId": "02757989755329538967"
     },
     "user_tz": 180
    },
    "id": "RrAsLvDMGE7j",
    "outputId": "ebe7a210-a3bc-44fa-b18b-4158cde553d8"
   },
   "outputs": [
    {
     "name": "stdout",
     "output_type": "stream",
     "text": [
      "Using device: cuda\n"
     ]
    }
   ],
   "source": [
    "device = torch.device('cuda' if torch.cuda.is_available() else 'cpu')\n",
    "print(f'Using device: {device}')\n",
    "\n",
    "# Load datasets\n",
    "X_train_df = LazyCSVLoader(data_path+'X_train.csv', data_path+'y_train.csv')\n",
    "X_val_df = LazyCSVLoader(data_path+'X_val.csv', data_path+'y_val.csv')\n",
    "X_test_df = LazyCSVLoader(data_path+'X_test.csv', data_path+'y_test.csv')\n"
   ]
  },
  {
   "cell_type": "code",
   "execution_count": 13,
   "metadata": {
    "colab": {
     "base_uri": "https://localhost:8080/"
    },
    "executionInfo": {
     "elapsed": 6,
     "status": "ok",
     "timestamp": 1717184463964,
     "user": {
      "displayName": "Gustavo De Souza Dos Reis",
      "userId": "02757989755329538967"
     },
     "user_tz": 180
    },
    "id": "Tm_HWjNhGJEW",
    "outputId": "fbe17a88-a27c-4de4-baa2-be3b3bba8856"
   },
   "outputs": [
    {
     "name": "stderr",
     "output_type": "stream",
     "text": [
      "/usr/local/lib/python3.10/dist-packages/torch/utils/data/dataloader.py:558: UserWarning: This DataLoader will create 4 worker processes in total. Our suggested max number of worker in current system is 2, which is smaller than what this DataLoader is going to create. Please be aware that excessive worker creation might get DataLoader running slow or even freeze, lower the worker number to avoid potential slowness/freeze if necessary.\n",
      "  warnings.warn(_create_warning_msg(\n"
     ]
    }
   ],
   "source": [
    "# Create DataLoaders\n",
    "train_loader = DataLoader(X_train_df, batch_size=64, shuffle=False, num_workers=4, pin_memory=True)\n",
    "val_loader = DataLoader(X_val_df, batch_size=64, shuffle=False, num_workers=4, pin_memory=True)\n",
    "test_loader = DataLoader(X_test_df, batch_size=64, shuffle=False, num_workers=4, pin_memory=True)"
   ]
  },
  {
   "cell_type": "code",
   "execution_count": 11,
   "metadata": {
    "executionInfo": {
     "elapsed": 2633,
     "status": "ok",
     "timestamp": 1717184435558,
     "user": {
      "displayName": "Gustavo De Souza Dos Reis",
      "userId": "02757989755329538967"
     },
     "user_tz": 180
    },
    "id": "i98_I68hGQfh"
   },
   "outputs": [],
   "source": [
    "# Define model, criterion, and optimizer\n",
    "input_dim = X_train_df.num_features\n",
    "output_dim = 1\n",
    "model = PolynomialRegression(input_dim, output_dim)\n",
    "\n",
    "if torch.cuda.device_count() > 1:\n",
    "    print(f\"Using {torch.cuda.device_count()} GPUs!\")\n",
    "    model = nn.DataParallel(model)\n",
    "model.to(device)\n",
    "\n",
    "criterion = nn.MSELoss()\n",
    "optimizer = optim.SGD(model.parameters(), lr=0.01)\n"
   ]
  },
  {
   "cell_type": "code",
   "execution_count": null,
   "metadata": {
    "id": "np84heESGS_m"
   },
   "outputs": [],
   "source": [
    "# Training loop\n",
    "num_epochs = 100\n",
    "best_val_loss = float('inf')\n",
    "best_epoch = -1\n",
    "train_losses = []\n",
    "val_losses = []\n",
    "\n",
    "for epoch in range(num_epochs):\n",
    "    train_loss = train(model, train_loader, criterion, optimizer, device)\n",
    "    val_loss = validate(model, val_loader, criterion, device)\n",
    "    train_losses.append(train_loss)\n",
    "    val_losses.append(val_loss)\n",
    "\n",
    "    if val_loss < best_val_loss:\n",
    "        best_val_loss = val_loss\n",
    "        best_epoch = epoch\n",
    "        torch.save(model.state_dict(), data_path+'Best/PolyReg.pth')\n",
    "\n",
    "    print(f'Epoch {epoch + 1}/{num_epochs}, Train Loss: {train_loss:.4f}, Val Loss: {val_loss:.4f}')\n"
   ]
  },
  {
   "cell_type": "code",
   "execution_count": null,
   "metadata": {
    "id": "HQHBiZ4CGVLq"
   },
   "outputs": [],
   "source": [
    "# Plot train vs validation loss\n",
    "plt.figure(figsize=(10, 6))\n",
    "plt.plot(range(1, num_epochs + 1), train_losses, label='Train Loss')\n",
    "plt.plot(range(1, num_epochs + 1), val_losses, label='Validation Loss')\n",
    "plt.axvline(x=best_epoch + 1, color='r', linestyle='--', label='Best Epoch')\n",
    "plt.xlabel('Epoch')\n",
    "plt.ylabel('Loss')\n",
    "plt.legend()\n",
    "plt.title('Train vs Validation Loss')\n",
    "plt.show()\n",
    "\n",
    "print(f'Best Epoch: {best_epoch + 1}, Best Validation Loss: {best_val_loss:.4f}')\n"
   ]
  },
  {
   "cell_type": "code",
   "execution_count": null,
   "metadata": {
    "id": "kIk-9ojl5lIw"
   },
   "outputs": [],
   "source": [
    "# Load the best model for testing\n",
    "model.load_state_dict(torch.load(data_path+'Best/PolyReg.pth'))\n",
    "predictions, actuals = test(model, test_loader, device)\n",
    "print(f'Test Predictions: {predictions}')\n",
    "print(f'Test Actuals: {actuals}')"
   ]
  }
 ],
 "metadata": {
  "accelerator": "GPU",
  "colab": {
   "gpuType": "T4",
   "provenance": []
  },
  "kernelspec": {
   "display_name": "Python 3 (ipykernel)",
   "language": "python",
   "name": "python3"
  },
  "language_info": {
   "codemirror_mode": {
    "name": "ipython",
    "version": 3
   },
   "file_extension": ".py",
   "mimetype": "text/x-python",
   "name": "python",
   "nbconvert_exporter": "python",
   "pygments_lexer": "ipython3",
   "version": "3.10.12"
  }
 },
 "nbformat": 4,
 "nbformat_minor": 1
}
