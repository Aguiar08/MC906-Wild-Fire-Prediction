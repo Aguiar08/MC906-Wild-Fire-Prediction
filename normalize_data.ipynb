{
 "cells": [
  {
   "cell_type": "code",
   "execution_count": 22,
   "metadata": {},
   "outputs": [
    {
     "name": "stdout",
     "output_type": "stream",
     "text": [
      "Collecting scikit-learn\n",
      "  Downloading scikit_learn-1.5.0-cp39-cp39-win_amd64.whl (11.0 MB)\n",
      "Requirement already satisfied: numpy>=1.19.5 in c:\\users\\eduar\\appdata\\local\\programs\\python\\python39\\lib\\site-packages (from scikit-learn) (1.26.4)\n",
      "Collecting threadpoolctl>=3.1.0\n",
      "  Downloading threadpoolctl-3.5.0-py3-none-any.whl (18 kB)\n",
      "Collecting joblib>=1.2.0\n",
      "  Downloading joblib-1.4.2-py3-none-any.whl (301 kB)\n",
      "Collecting scipy>=1.6.0\n",
      "  Downloading scipy-1.13.1-cp39-cp39-win_amd64.whl (46.2 MB)\n",
      "Installing collected packages: threadpoolctl, joblib, scipy, scikit-learn\n",
      "Successfully installed joblib-1.4.2 scikit-learn-1.5.0 scipy-1.13.1 threadpoolctl-3.5.0\n",
      "Note: you may need to restart the kernel to use updated packages.\n"
     ]
    },
    {
     "name": "stderr",
     "output_type": "stream",
     "text": [
      "WARNING: You are using pip version 20.2.3; however, version 24.0 is available.\n",
      "You should consider upgrading via the 'c:\\Users\\eduar\\AppData\\Local\\Programs\\Python\\Python39\\python.exe -m pip install --upgrade pip' command.\n"
     ]
    },
    {
     "name": "stdout",
     "output_type": "stream",
     "text": [
      "Requirement already satisfied: numpy in c:\\users\\eduar\\appdata\\local\\programs\\python\\python39\\lib\\site-packages (1.26.4)\n",
      "Note: you may need to restart the kernel to use updated packages.\n"
     ]
    },
    {
     "name": "stderr",
     "output_type": "stream",
     "text": [
      "WARNING: You are using pip version 20.2.3; however, version 24.0 is available.\n",
      "You should consider upgrading via the 'c:\\Users\\eduar\\AppData\\Local\\Programs\\Python\\Python39\\python.exe -m pip install --upgrade pip' command.\n"
     ]
    }
   ],
   "source": [
    "%pip install scikit-learn\n",
    "%pip install numpy\n"
   ]
  },
  {
   "cell_type": "code",
   "execution_count": 1,
   "metadata": {},
   "outputs": [],
   "source": [
    "import numpy as np\n",
    "import pandas as pd\n",
    "from sklearn.preprocessing import QuantileTransformer"
   ]
  },
  {
   "cell_type": "code",
   "execution_count": 2,
   "metadata": {},
   "outputs": [],
   "source": [
    "df_train = pd.read_csv('df_train.csv')\n",
    "df_test = pd.read_csv('df_test.csv')\n",
    "df_val = pd.read_csv('df_val.csv')"
   ]
  },
  {
   "cell_type": "code",
   "execution_count": null,
   "metadata": {},
   "outputs": [],
   "source": [
    "# Definindo colunas para cada tipo de normalização\n",
    "y_train = df_train['RISCO DE FOGO']\n",
    "y_val = df_val['RISCO DE FOGO']\n",
    "y_test = df_test['RISCO DE FOGO']\n",
    "columns_uniform = [\n",
    "    'PRECIPITAÇÃO TOTAL, HORÁRIO (mm)', 'VENTO, DIREÇÃO HORARIA (gr) (° (gr))',\n",
    "    'VENTO, RAJADA MAXIMA (m/s)', 'VENTO, VELOCIDADE HORARIA (m/s)',\n",
    "    'DIAS SEM CHUVA'\n",
    "]\n",
    "\n",
    "columns_normal = [\n",
    "    'PRESSAO ATMOSFERICA AO NIVEL DA ESTACAO, HORARIA (mB)',\n",
    "    'PRESSÃO ATMOSFERICA MAX.NA HORA ANT. (AUT) (mB)',\n",
    "    'PRESSÃO ATMOSFERICA MIN. NA HORA ANT. (AUT) (mB)',\n",
    "    'TEMPERATURA DO AR - BULBO SECO, HORARIA (°C)',\n",
    "    'TEMPERATURA DO PONTO DE ORVALHO (°C)',\n",
    "    'TEMPERATURA MÁXIMA NA HORA ANT. (AUT) (°C)',\n",
    "    'TEMPERATURA MÍNIMA NA HORA ANT. (AUT) (°C)',\n",
    "    'TEMPERATURA ORVALHO MAX. NA HORA ANT. (AUT) (°C)',\n",
    "    'TEMPERATURA ORVALHO MIN. NA HORA ANT. (AUT) (°C)',\n",
    "    'UMIDADE REL. MAX. NA HORA ANT. (AUT) (%)',\n",
    "    'UMIDADE REL. MIN. NA HORA ANT. (AUT) (%)',\n",
    "    'UMIDADE RELATIVA DO AR, HORARIA (%)',\n",
    "    'LATITUDE',\n",
    "    \"\"\n",
    "]\n",
    "\n",
    "# Aplicar quantile bucketing\n",
    "def quantile_transform(df, columns, output_distribution, train):\n",
    "    if train:\n",
    "        transformer = QuantileTransformer(output_distribution=output_distribution)\n",
    "        transformed_data = transformer.fit_transform(df[columns])\n",
    "    else: \n",
    "        transformed_data = transformer.transform(df[columns])\n",
    "    return pd.DataFrame(transformed_data, columns=columns, index=df.index)\n",
    "\n",
    "df_train_uniform = quantile_transform(df_train, columns_uniform, 'uniform', True)\n",
    "df_val_uniform = quantile_transform(df_val, columns_uniform, 'uniform', False)\n",
    "df_test_uniform = quantile_transform(df_test, columns_uniform, 'uniform', False)\n",
    "\n",
    "df_train_normal = quantile_transform(df_train, columns_normal, 'normal')\n",
    "df_val_normal = quantile_transform(df_val, columns_normal, 'normal')\n",
    "df_test_normal = quantile_transform(df_test, columns_normal, 'normal')\n",
    "\n",
    "# Concatenar os dados normalizados\n",
    "X_train_quantile = pd.concat([df_train_uniform, df_train_normal], axis=1)\n",
    "X_val_quantile = pd.concat([df_val_uniform, df_val_normal], axis=1)\n",
    "X_test_quantile = pd.concat([df_test_uniform, df_test_normal], axis=1)"
   ]
  },
  {
   "cell_type": "code",
   "execution_count": 18,
   "metadata": {},
   "outputs": [],
   "source": [
    "X_test_quantile.head()"
   ]
  }
 ],
 "metadata": {
  "kernelspec": {
   "display_name": "Python 3",
   "language": "python",
   "name": "python3"
  },
  "language_info": {
   "codemirror_mode": {
    "name": "ipython",
    "version": 3
   },
   "file_extension": ".py",
   "mimetype": "text/x-python",
   "name": "python",
   "nbconvert_exporter": "python",
   "pygments_lexer": "ipython3",
   "version": "3.9.2"
  }
 },
 "nbformat": 4,
 "nbformat_minor": 2
}
